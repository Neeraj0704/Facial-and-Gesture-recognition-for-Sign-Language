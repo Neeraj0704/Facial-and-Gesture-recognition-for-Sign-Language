!pip install opencv-python
import cv2
import numpy as np
import tensorflow as tf
import torch

# Load YOLOv5 model for gesture recognition
yolo_model_path = r"C:\Users\neera\Downloads\best.pt"  # Update this path to your saved YOLOv5 model
yolo_model = torch.hub.load('ultralytics/yolov5', 'custom', path=yolo_model_path, trust_repo=True)

# Load your facial recognition Keras model
facial_model_path = 'path/to/your/facial_model.keras'  # Update this path
facial_model = tf.keras.models.load_model(facial_model_path)

# Open a video capture stream
cap = cv2.VideoCapture(0)  # 0 for the default camera

def preprocess_face_image(image):
    # Preprocess the face image as required by your facial recognition model
    image = cv2.cvtColor(image, cv2.COLOR_BGR2RGB)
    image = cv2.resize(image, (224, 224))  # Update size as per your model
    image = image / 255.0  # Normalize to [0, 1]
    image = np.expand_dims(image, axis=0)  # Add batch dimension
    return image

while True:
    ret, frame = cap.read()
    if not ret:
        break

    # Perform gesture detection using YOLOv5
    results = yolo_model(frame)
    annotated_frame = results.render()[0]

    # Perform facial recognition
    face_cascade = cv2.CascadeClassifier(cv2.data.haarcascades + 'haarcascade_frontalface_default.xml')
    gray_frame = cv2.cvtColor(frame, cv2.COLOR_BGR2GRAY)
    faces = face_cascade.detectMultiScale(gray_frame, scaleFactor=1.1, minNeighbors=5, minSize=(30, 30))

    for (x, y, w, h) in faces:
        face = frame[y:y+h, x:x+w]
        face_image = preprocess_face_image(face)

        # Predict facial features
        facial_output = facial_model.predict(face_image)
        # Example: Display facial recognition result
        emotion = np.argmax(facial_output)  # Update this according to your model's output
        cv2.putText(annotated_frame, f'Emotion: {emotion}', (x, y - 10), cv2.FONT_HERSHEY_SIMPLEX, 0.9, (0, 255, 0), 2)

        # Draw rectangle around face
        cv2.rectangle(annotated_frame, (x, y), (x+w, y+h), (0, 255, 0), 2)

    # Display the frame with annotations
    cv2.imshow('Real-Time Detection', annotated_frame)

    # Exit on 'q' key press
    if cv2.waitKey(1) & 0xFF == ord('q'):
        break

# Release resources
cap.release()
cv2.destroyAllWindows()
